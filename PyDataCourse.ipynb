{
 "cells": [
  {
   "cell_type": "markdown",
   "metadata": {},
   "source": [
    "# Data Handling in Python Workshop | University Research Computing\n",
    "#### Instructor: Samah Karim | University Research Computing \n",
    "#### Date: 12/01/2023\n",
    "\n",
    "#### Resources:\n",
    "- [Python for Data Analysis](https://www.oreilly.com/library/view/python-for-data/9781491957653/)\n",
    "- [Parallel Computing on FASRC CANNON Cluster](https://docs.rc.fas.harvard.edu/kb/parallel-computing-on-odyssey/)"
   ]
  },
  {
   "cell_type": "markdown",
   "metadata": {},
   "source": [
    "## List of Topics\n",
    "- Python Data Types: Collections\n",
    "- File I/O\n",
    "- Parallel Data Processing"
   ]
  },
  {
   "cell_type": "markdown",
   "metadata": {},
   "source": [
    "### Python Data Types: Collections\n",
    "#### List Comprehensions"
   ]
  },
  {
   "cell_type": "markdown",
   "metadata": {},
   "source": [
    "This code is creating a new list by squaring each integer element from the original list.\n",
    "\n",
    "**%time** is a built-in magic function used to measure the execution time of a single statement or expression. IPython has a set of predefined **magic functions** that you can call with a command line style syntax. There are two kinds of magics, line-oriented and cell-oriented. Line magics are prefixed with the % character."
   ]
  },
  {
   "cell_type": "code",
   "execution_count": 1,
   "metadata": {},
   "outputs": [
    {
     "name": "stdout",
     "output_type": "stream",
     "text": [
      "CPU times: user 9 µs, sys: 0 ns, total: 9 µs\n",
      "Wall time: 11.9 µs\n",
      "res1 = [1, 81, 0, 16, 121, 49]\n",
      "\n",
      "CPU times: user 11 µs, sys: 1e+03 ns, total: 12 µs\n",
      "Wall time: 14.8 µs\n",
      "res2 = [1, 81, 0, 16, 121, 49]\n",
      "\n",
      "res 1 = res2 ?  True\n"
     ]
    }
   ],
   "source": [
    "# Build sequences from other sequences\n",
    "\n",
    "l = [1, '4', 9, 'a', 0, 4, 'b', '5', 11, 'aa', 'bb', 7]\n",
    "\n",
    "%time res1 = [ x**2 for x in l if isinstance(x, int) ]\n",
    "\n",
    "print(f\"res1 = \" + str(res1) + \"\\n\")\n",
    "# x**2                       :: output expression\n",
    "# x                          :: variable\n",
    "# l                          :: input sequence\n",
    "# if isinstance(x, int)      :: optional predicate\n",
    "\n",
    "\n",
    "# NOTE: Same results by map, filter, lambda\n",
    "# lambda(variable : equation, list)\n",
    "\n",
    "%time res2 = list(map(lambda x: x**2, filter(lambda x: isinstance(x, int), l)))\n",
    "\n",
    "print(\"res2 = \" + str(res2))\n",
    "\n",
    "\n",
    "print(f\"\\nres 1 = res2 ?  {res1 == res2}\") \n",
    "# This uses the f\"...\" syntax for an f-string, and {res1 == res2} is an expression that will be replaced \n",
    "# with the result of the comparison."
   ]
  },
  {
   "cell_type": "markdown",
   "metadata": {},
   "source": [
    "******\n",
    "Please Note:   \n",
    "\n",
    "**Wall time** (real time): This is the actual elapsed time, including time spent waiting for I/O operations, other processes, etc. A clock hanging on a wall outside of the computer would measure X ms from the time the code was submitted to the CPU to the time when the process completed.\n",
    "\n",
    "**CPU time**: This is the amount of time the CPU spends processing the task. It includes both user and system times.\n",
    "\n",
    "**User time** and sys time both refer to time taken by the CPU to actually work on the code. The CPU time dedicated to our code is only a fraction of the wall time as the CPU swaps its attention from our code to other processes that are running on the system.\n",
    "\n",
    "**User time** is the amount of CPU time taken outside of the kernel.\n",
    "\n",
    "**Sys time** is the amount of time taken inside of the kernel. \n",
    "\n",
    "**Total** CPU time is user time + sys time."
   ]
  },
  {
   "cell_type": "markdown",
   "metadata": {},
   "source": [
    "********\n",
    "The **%timeit** magic function in IPython is used to measure the execution time of a Python statement or expression with a higher level of precision than %time. It runs the statement multiple times and provides statistical information about the time it takes to execute. This can be particularly useful for assessing the performance of code and getting a more stable estimate of the execution time."
   ]
  },
  {
   "cell_type": "code",
   "execution_count": 2,
   "metadata": {},
   "outputs": [
    {
     "name": "stdout",
     "output_type": "stream",
     "text": [
      "2.48 µs ± 134 ns per loop (mean ± std. dev. of 7 runs, 100000 loops each)\n",
      "3.22 µs ± 67.1 ns per loop (mean ± std. dev. of 7 runs, 100000 loops each)\n"
     ]
    }
   ],
   "source": [
    "# %timeit vs %time\n",
    "l = [1, '4', 9, 'a', 0, 4, 'b', '5', 11, 'aa', 'bb', 7]\n",
    "\n",
    "%timeit res1 = [ x**2 for x in l if isinstance(x, int) ]\n",
    "%timeit res2 = list(map(lambda x: x**2, filter(lambda x: isinstance(x, int), l)))\n"
   ]
  },
  {
   "cell_type": "markdown",
   "metadata": {},
   "source": [
    "********\n",
    "The **%%time** magic command in IPython is used to measure the execution time of an entire cell, rather than just a single statement or expression. It provides information about the total time taken to run all the code within the cell."
   ]
  },
  {
   "cell_type": "code",
   "execution_count": 3,
   "metadata": {
    "scrolled": true
   },
   "outputs": [
    {
     "name": "stdout",
     "output_type": "stream",
     "text": [
      "time the whole cell using %%time built-in function\n",
      "res 1 = res2 ?  True\n",
      "\n",
      "CPU times: user 976 µs, sys: 1.1 ms, total: 2.07 ms\n",
      "Wall time: 1.91 ms\n"
     ]
    }
   ],
   "source": [
    "%%time\n",
    "\n",
    "print(\"time the whole cell using %%time built-in function\")\n",
    "l = [1, '4', 9, 'a', 0, 4, 'b', '5', 11, 'aa', 'bb', 7]\n",
    "\n",
    "res1 = [ x**2 for x in l if isinstance(x, int) ]\n",
    "res2 = list(map(lambda x: x**2, filter(lambda x: isinstance(x, int), l)))\n",
    "print(f\"res 1 = res2 ?  {res1 == res2}\\n\") "
   ]
  },
  {
   "cell_type": "markdown",
   "metadata": {},
   "source": [
    "********\n",
    "The **%%prun** magic command in IPython is used to profile the execution of a Python script or code block using the built-in cProfile profiler. Profiling is a technique used to measure the execution time of different parts of your code and identify areas that might benefit from optimization."
   ]
  },
  {
   "cell_type": "code",
   "execution_count": 4,
   "metadata": {},
   "outputs": [
    {
     "name": "stdout",
     "output_type": "stream",
     "text": [
      "Profile the whole cell using %%prun built-in function\n",
      "\n",
      "res 1 = res2 ?  True\n",
      " "
     ]
    }
   ],
   "source": [
    "%%prun\n",
    "\n",
    "print(\"Profile the whole cell using %%prun built-in function\")\n",
    "l = [1, '4', 9, 'a', 0, 4, 'b', '5', 11, 'aa', 'bb', 7]\n",
    "\n",
    "res1 = [ x**2 for x in l if isinstance(x, int) ]\n",
    "res2 = list(map(lambda x: x**2, filter(lambda x: isinstance(x, int), l)))\n",
    "print(f\"\\nres 1 = res2 ?  {res1 == res2}\") "
   ]
  },
  {
   "cell_type": "markdown",
   "metadata": {},
   "source": [
    "**ncalls** : the number of calls,\n",
    "\n",
    "**tottime** : the total time spent in the given function (and excluding time made in calls to sub-functions),\n",
    "\n",
    "**percall** : the quotient of *tottime* divided by *ncalls*\n",
    "\n",
    "**cumtime** : the total time spent in this and all subfunctions (from invocation till exit). This figure is accurate even for recursive functions.\n",
    "\n",
    "**percall** is the quotient of *cumtime* divided by primitive calls"
   ]
  },
  {
   "cell_type": "markdown",
   "metadata": {},
   "source": [
    "**NOTE:** Read more about the built-in magic commands in `IPython` [here](https://ipython.readthedocs.io/en/stable/interactive/magics.html). \n",
    "***********"
   ]
  },
  {
   "cell_type": "markdown",
   "metadata": {},
   "source": [
    "\n",
    "The **%load_ext** magic command in IPython is used to load an IPython extension. IPython extensions are modules that provide additional functionality and features to the IPython environment. These extensions can be developed by the IPython team or the community.\n",
    "\n",
    "**%snakeviz**: command in IPython is used to profile and visualize the performance of a Python script or code block using the SnakeViz profiler. SnakeViz is a web-based graphical viewer for Python profiling data generated by cProfile, a built-in Python profiling module."
   ]
  },
  {
   "cell_type": "code",
   "execution_count": 5,
   "metadata": {},
   "outputs": [],
   "source": [
    "# Load an IPython extension by its module name.\n",
    "%load_ext snakeviz"
   ]
  },
  {
   "cell_type": "code",
   "execution_count": 6,
   "metadata": {},
   "outputs": [],
   "source": [
    "def test():\n",
    "    l = [1, '4', 9, 'a', 0, 4, 'b', '5', 11, 'aa', 'bb', 7]\n",
    "\n",
    "    res1 = [ x**2 for x in l if isinstance(x, int) ]\n",
    "    res2 = list(map(lambda x: x**2, filter(lambda x: isinstance(x, int), l)))\n",
    "    print(f\"\\nres 1 = res2 ?  {res1 == res2}\") "
   ]
  },
  {
   "cell_type": "markdown",
   "metadata": {},
   "source": [
    "******\n",
    "When you run this code in an IPython environment, it will generate a visualization using SnakeViz and open it in your web browser. The visualization provides insights into the time spent in various functions and code lines, helping you identify performance bottlenecks."
   ]
  },
  {
   "cell_type": "code",
   "execution_count": 7,
   "metadata": {},
   "outputs": [
    {
     "name": "stdout",
     "output_type": "stream",
     "text": [
      "\n",
      "res 1 = res2 ?  True\n",
      " \n",
      "*** Profile stats marshalled to file '/var/folders/zh/pnw8t7cd3w125crnsf_r8p4m0000gq/T/tmp9isl76wl'. \n",
      "Embedding SnakeViz in this document...\n",
      "<function display at 0x7fec5cf93ca0>\n"
     ]
    },
    {
     "data": {
      "text/html": [
       "\n",
       "<iframe id='snakeviz-9e503e30-8d75-11ee-ad03-acde48001122' frameborder=0 seamless width='100%' height='1000'></iframe>\n",
       "<script>document.getElementById(\"snakeviz-9e503e30-8d75-11ee-ad03-acde48001122\").setAttribute(\"src\", \"http://\" + document.location.hostname + \":8080/snakeviz/%2Fvar%2Ffolders%2Fzh%2Fpnw8t7cd3w125crnsf_r8p4m0000gq%2FT%2Ftmp9isl76wl\")</script>\n"
      ],
      "text/plain": [
       "<IPython.core.display.HTML object>"
      ]
     },
     "metadata": {},
     "output_type": "display_data"
    }
   ],
   "source": [
    "%snakeviz test()"
   ]
  },
  {
   "cell_type": "markdown",
   "metadata": {},
   "source": [
    "*********"
   ]
  },
  {
   "cell_type": "code",
   "execution_count": 8,
   "metadata": {},
   "outputs": [
    {
     "name": "stdout",
     "output_type": "stream",
     "text": [
      "\n",
      "res 1 = res2 ?  True\n",
      "CPU times: user 300 µs, sys: 129 µs, total: 429 µs\n",
      "Wall time: 417 µs\n"
     ]
    }
   ],
   "source": [
    "%%time\n",
    "# Nested Comprehensions\n",
    "matrix = [ [ 1 if i == row_i else 0 for i in range(0, 10) ] for row_i in range(0, 10) ]\n",
    "# The above list comprehension creates a 10x10 identity matrix\n",
    "\n",
    "# List Comprehension using zip() to work with two or more elements at a time\n",
    "res1 = [(v,w) for v,w in zip([1,2,3], [4,5,6])]\n",
    "\n",
    "# Using two separate comprehension expressions. This comprehension uses enumerate to get both the index i \n",
    "# and the corresponding value v from the list [1, 2, 3]. It then constructs tuples with the elements from the \n",
    "# first list (v) and the corresponding elements from the second list [4, 5, 6] using the index i.\n",
    "res2 = result = [(v, [4, 5, 6][i]) for i, v in enumerate([1, 2, 3])]\n",
    "\n",
    "print(f\"\\nres 1 = res2 ?  {res1 == res2}\") \n"
   ]
  },
  {
   "cell_type": "markdown",
   "metadata": {},
   "source": [
    "**********\n",
    "#### Set Comprehensions\n",
    "A set comprehension in Python is a concise way to create a set. The syntax is similar to list comprehensions, but it uses curly braces {} instead of square brackets [].\n",
    "\n",
    "\n",
    "In Python, a **set** is an unordered collection of unique elements. Sets are defined by enclosing the elements in curly braces {}. Sets are similar to lists or tuples, but unlike lists, they do not have an order, and unlike both lists and tuples, they do not allow duplicate elements."
   ]
  },
  {
   "cell_type": "code",
   "execution_count": 9,
   "metadata": {},
   "outputs": [
    {
     "name": "stdout",
     "output_type": "stream",
     "text": [
      "{0, 1, 'bb', 4, 5, 9, 'aa'}\n"
     ]
    }
   ],
   "source": [
    "l = [1, 4, 9, 'aa', 0, 4, 'bb', 5, 5, 'aa', 'bb', 1]\n",
    "res = {i for i in l}\n",
    "print(res)"
   ]
  },
  {
   "cell_type": "markdown",
   "metadata": {},
   "source": [
    "#### Dictionary Comprehensions\n",
    "Dictionary comprehension is a concise way to create dictionaries in Python. It provides a compact and readable syntax for generating dictionaries in a single line of code. The basic structure of a dictionary comprehension is similar to a list comprehension, but it uses curly braces {} to denote the creation of a dictionary."
   ]
  },
  {
   "cell_type": "code",
   "execution_count": 10,
   "metadata": {},
   "outputs": [
    {
     "name": "stdout",
     "output_type": "stream",
     "text": [
      "{'b': 20, 'c': 40, 'B': 50, 'Z': 30}\n",
      "{'b': 70, 'c': 40, 'z': 30}\n"
     ]
    }
   ],
   "source": [
    "# Get frequency of keys and ignore lowercase/uppercase\n",
    "d = {'b':20, 'c': 40, 'B': 50, 'Z':30}\n",
    "\n",
    "d_freq = { i.lower() : d.get(i.lower(), 0) + d.get(i.upper(), 0) for i in d.keys() }\n",
    "# A dictionary comprehension is used to create a new dictionary (d_freq) that contains the frequency of keys, \n",
    "# considering both lowercase and uppercase keys as the same. \n",
    "\n",
    "print(d)\n",
    "print(d_freq)"
   ]
  },
  {
   "cell_type": "markdown",
   "metadata": {},
   "source": [
    "#### Function map()\n",
    "Returns a map object(which is an iterator) of the results after applying the given function to each item of a given iterable (list, tuple etc.)"
   ]
  },
  {
   "cell_type": "code",
   "execution_count": 11,
   "metadata": {},
   "outputs": [
    {
     "name": "stdout",
     "output_type": "stream",
     "text": [
      "CPU times: user 40.5 ms, sys: 2.89 ms, total: 43.4 ms\n",
      "Wall time: 43 ms\n",
      "CPU times: user 33.2 ms, sys: 397 µs, total: 33.6 ms\n",
      "Wall time: 33.7 ms\n",
      "[['c', 'a', 't'], ['d', 'o', 'g'], ['b', 'i', 'r', 'd'], ['h', 'o', 'r', 's', 'e']]\n"
     ]
    }
   ],
   "source": [
    "def xsq(x):\n",
    "    return x**2\n",
    "\n",
    "l1 = [i for i in range(10**5)]\n",
    "\n",
    "%time list(map(xsq, l1))\n",
    "%time list(map(lambda x: x**2, l1))\n",
    "\n",
    "\n",
    "l2 = ['cat', 'dog', 'bird', 'horse']\n",
    "print(list(map(list,l2)))"
   ]
  },
  {
   "cell_type": "markdown",
   "metadata": {},
   "source": [
    "*****\n",
    "### Transforming data in DataFrames"
   ]
  },
  {
   "cell_type": "code",
   "execution_count": 12,
   "metadata": {},
   "outputs": [],
   "source": [
    "# dataframe map\n",
    "import pandas as pd\n",
    "#Load the Iris dataset into a pandas DataFrame (df) from a CSV file and removes the 'species' column.\n",
    "df = pd.read_csv(\"https://gist.githubusercontent.com/curran/a08a1080b88344b0c8a7/raw/0e7a9b0a5d22642a06d3d5b9bcbad9890c8ee534/iris.csv\")\n",
    "del df['species']\n",
    "\n",
    "#Defining two lambda functions\n",
    "f = lambda x: x.max() - x.min() # f calculates the range (difference between max and min) for a given Series.\n",
    "format = lambda x: '%.2f' % x # format formats a number to two decimal places. "
   ]
  },
  {
   "cell_type": "code",
   "execution_count": 13,
   "metadata": {},
   "outputs": [
    {
     "name": "stdout",
     "output_type": "stream",
     "text": [
      "0      5.10\n",
      "1      4.90\n",
      "2      4.70\n",
      "3      4.60\n",
      "4      5.00\n",
      "       ... \n",
      "145    6.70\n",
      "146    6.30\n",
      "147    6.50\n",
      "148    6.20\n",
      "149    5.90\n",
      "Length: 150, dtype: object\n",
      "CPU times: user 1.66 ms, sys: 212 µs, total: 1.88 ms\n",
      "Wall time: 1.83 ms\n"
     ]
    }
   ],
   "source": [
    "# Using map() function on a Series.\n",
    "%time print ( pd.Series(map(format, df['sepal_length'])) )  # Apply the format function to each element of the 'sepal_length' Series."
   ]
  },
  {
   "cell_type": "code",
   "execution_count": 14,
   "metadata": {},
   "outputs": [
    {
     "name": "stdout",
     "output_type": "stream",
     "text": [
      "0      5.10\n",
      "1      4.90\n",
      "2      4.70\n",
      "3      4.60\n",
      "4      5.00\n",
      "       ... \n",
      "145    6.70\n",
      "146    6.30\n",
      "147    6.50\n",
      "148    6.20\n",
      "149    5.90\n",
      "Name: sepal_length, Length: 150, dtype: object\n",
      "CPU times: user 1.32 ms, sys: 241 µs, total: 1.56 ms\n",
      "Wall time: 1.4 ms\n"
     ]
    }
   ],
   "source": [
    "# Using map() on a Series (alternative syntax)\n",
    "# This line achieves the same result as the previous line but uses the map() function directly on the Series. \n",
    "# map works element-wise on a series\n",
    "%time print( df['sepal_length'].map(format) ) "
   ]
  },
  {
   "cell_type": "code",
   "execution_count": 15,
   "metadata": {},
   "outputs": [
    {
     "name": "stdout",
     "output_type": "stream",
     "text": [
      "    sepal_length sepal_width petal_length petal_width\n",
      "0           5.10        3.50         1.40        0.20\n",
      "1           4.90        3.00         1.40        0.20\n",
      "2           4.70        3.20         1.30        0.20\n",
      "3           4.60        3.10         1.50        0.20\n",
      "4           5.00        3.60         1.40        0.20\n",
      "..           ...         ...          ...         ...\n",
      "145         6.70        3.00         5.20        2.30\n",
      "146         6.30        2.50         5.00        1.90\n",
      "147         6.50        3.00         5.20        2.00\n",
      "148         6.20        3.40         5.40        2.30\n",
      "149         5.90        3.00         5.10        1.80\n",
      "\n",
      "[150 rows x 4 columns]\n",
      "CPU times: user 5.19 ms, sys: 1.74 ms, total: 6.93 ms\n",
      "Wall time: 6.4 ms\n"
     ]
    }
   ],
   "source": [
    "# Using applymap() on a DataFrame: \n",
    "# This line applies the format function element-wise to the entire DataFrame using the applymap() function. \n",
    "# It formats each numeric value in the DataFrame to two decimal places.\n",
    "%time print ( df.applymap(format) )"
   ]
  },
  {
   "cell_type": "code",
   "execution_count": 16,
   "metadata": {},
   "outputs": [
    {
     "name": "stdout",
     "output_type": "stream",
     "text": [
      "sepal_length    3.6\n",
      "sepal_width     2.4\n",
      "petal_length    5.9\n",
      "petal_width     2.4\n",
      "dtype: float64\n",
      "CPU times: user 1.79 ms, sys: 337 µs, total: 2.12 ms\n",
      "Wall time: 2.04 ms\n"
     ]
    }
   ],
   "source": [
    "#  Using apply() on a DataFrame (column-wise). apply() works on row/column wise.\n",
    "# This line applies the f function column-wise to the DataFrame (axis=0). It calculates the range for each \n",
    "# numeric column in the DataFrame.\n",
    "%time print ( df.apply(f, axis=0) )    # 0: column, 1: row"
   ]
  },
  {
   "cell_type": "markdown",
   "metadata": {},
   "source": [
    "****\n",
    "#### Example on numpy array\n",
    "\n",
    "Compare the performance of various methods for applying the square root function (f(x) = sqrt(x)) element-wise to a numpy array."
   ]
  },
  {
   "cell_type": "code",
   "execution_count": 17,
   "metadata": {},
   "outputs": [
    {
     "data": {
      "application/vnd.jupyter.widget-view+json": {
       "model_id": "e66d78b9435d482d9b2b6a2d44afd302",
       "version_major": 2,
       "version_minor": 0
      },
      "text/plain": [
       "Output()"
      ]
     },
     "metadata": {},
     "output_type": "display_data"
    },
    {
     "data": {
      "text/html": [
       "<pre style=\"white-space:pre;overflow-x:auto;line-height:normal;font-family:Menlo,'DejaVu Sans Mono',consolas,'Courier New',monospace\"></pre>\n"
      ],
      "text/plain": []
     },
     "metadata": {},
     "output_type": "display_data"
    },
    {
     "data": {
      "text/html": [
       "<pre style=\"white-space:pre;overflow-x:auto;line-height:normal;font-family:Menlo,'DejaVu Sans Mono',consolas,'Courier New',monospace\">\n",
       "</pre>\n"
      ],
      "text/plain": [
       "\n"
      ]
     },
     "metadata": {},
     "output_type": "display_data"
    },
    {
     "data": {
      "image/png": "[encoded data removed]",
      "text/plain": [
       "<Figure size 640x480 with 1 Axes>"
      ]
     },
     "metadata": {},
     "output_type": "display_data"
    }
   ],
   "source": [
    "import numpy as np\n",
    "import perfplot\n",
    "import math\n",
    "\n",
    "# Define function to be applied\n",
    "def f(x):\n",
    "    # return math.sqrt(x)\n",
    "    return np.sqrt(x)\n",
    "\n",
    "# Creates a vectorized version of the function f using np.vectorize. \n",
    "# Vectorization allows the function to be applied element-wise to an entire array.\n",
    "vf = np.vectorize(f)\n",
    "\n",
    "# Different Approaches to Applying the Function\n",
    "\n",
    "#Uses a list comprehension to apply the function and then converts the list to a numpy array\n",
    "def array_for(x):\n",
    "    return np.array([f(xi) for xi in x])\n",
    "\n",
    "# Uses the map() function along with a list comprehension to apply the function and then converts the \n",
    "# result to a numpy array\n",
    "def array_map(x):\n",
    "    return np.array(list(map(f, x)))\n",
    "\n",
    "# Use np.fromiter to apply the function and create a numpy array\n",
    "def fromiter(x):\n",
    "    return np.fromiter((f(xi) for xi in x), x.dtype)\n",
    "\n",
    "# Use np.vectorize function directly\n",
    "def vectorize(x):\n",
    "    return np.vectorize(f)(x)\n",
    "\n",
    "# Use the vectorized function (vf) without initializing it explicitly\n",
    "def vectorize_without_init(x):\n",
    "    return vf(x)\n",
    "\n",
    "# Use the perfplot library to create a performance plot comparing different approaches\n",
    "perfplot.show(\n",
    "    setup=lambda n: np.random.rand(n),\n",
    "    n_range=[2 ** k for k in range(10)],\n",
    "    kernels=[f, array_for, array_map, fromiter, vectorize, vectorize_without_init],\n",
    "    xlabel=\"len(x)\",\n",
    ")"
   ]
  },
  {
   "cell_type": "markdown",
   "metadata": {},
   "source": [
    "********\n",
    "#### Iterators & Generators\n",
    "\n",
    "An iterator in Python is an object commonly used to iterate over the elements of a collection. It is an object that implements the iterator protocol, which consists of the methods __iter__() and __next__(). The __iter__() method returns the iterator object itself, and the __next__() method returns the next element from the iterator. \n",
    "\n",
    "Generators are a specific type of iterator. They are often used to represent sequences of values or elements, and they can be used to iterate over collections in a memory-efficient manner."
   ]
  },
  {
   "cell_type": "code",
   "execution_count": 18,
   "metadata": {},
   "outputs": [
    {
     "name": "stdout",
     "output_type": "stream",
     "text": [
      "1\n",
      "20\n"
     ]
    }
   ],
   "source": [
    "# Iterators\n",
    "\n",
    "l = [1, 20, 3, 40, 5, 60]\n",
    "it = iter(l)\n",
    "\n",
    "print( next(it) )\n",
    "print( it.__next__() )"
   ]
  },
  {
   "cell_type": "code",
   "execution_count": 19,
   "metadata": {},
   "outputs": [
    {
     "name": "stdout",
     "output_type": "stream",
     "text": [
      "Next random number is: 195\n",
      "Next random number is: 154\n",
      "Next random number is: 127\n",
      "Next random number is: 118\n"
     ]
    }
   ],
   "source": [
    "# Generators\n",
    "import random\n",
    "import time\n",
    "\n",
    "def lot():\n",
    "    for i in range(4):\n",
    "        yield random.randint(100, 200)\n",
    "        time.sleep(2)\n",
    "        \n",
    "\n",
    "for r in lot():\n",
    "       print(\"Next random number is: %d\" %(r))"
   ]
  },
  {
   "cell_type": "markdown",
   "metadata": {},
   "source": [
    "*********\n",
    "### I/O Operation\n",
    "We want efficiency and flexibility in I/O operations!\n",
    "- Pickle (serialized storage)\n",
    "- I/O on Text\n",
    "- SQL Database\n",
    "- PyTables I/O Operations"
   ]
  },
  {
   "cell_type": "markdown",
   "metadata": {},
   "source": [
    "#### Pickle :: Serialized storage"
   ]
  },
  {
   "cell_type": "code",
   "execution_count": 20,
   "metadata": {},
   "outputs": [
    {
     "name": "stdout",
     "output_type": "stream",
     "text": [
      "CPU times: user 18.4 ms, sys: 4.57 ms, total: 23 ms\n",
      "Wall time: 23 ms\n",
      "CPU times: user 27.5 ms, sys: 15.6 ms, total: 43 ms\n",
      "Wall time: 43.5 ms\n"
     ]
    },
    {
     "data": {
      "text/plain": [
       "True"
      ]
     },
     "execution_count": 20,
     "metadata": {},
     "output_type": "execute_result"
    }
   ],
   "source": [
    "# pickle module serializes the python object for faster r/w.\n",
    "import pickle\n",
    "import numpy as np\n",
    "from random import gauss\n",
    "\n",
    "# Generates a list containing one million random numbers drawn from a Gaussian distribution with mean 1.5 and standard deviation 2.\n",
    "dat1 = [gauss(1.5, 2) for i in range(1000000)]\n",
    "\n",
    "file = open(\"ser_data.pkl\", 'wb')\n",
    "\n",
    "# Data variable is serialized to a \"byte stream\" and dumped to disk\n",
    "%time pickle.dump(dat1, file)\n",
    "\n",
    "# Retrieving deserialized data from pickle file\n",
    "%time dat2 = pickle.load(open( \"ser_data.pkl\", \"rb\" ))\n",
    "\n",
    "# Comparing Original and Deserialized Data\n",
    "np.allclose(np.array(dat1), np.array(dat2), rtol=1e-05, atol=1e-08)  # relative / absolute"
   ]
  },
  {
   "cell_type": "code",
   "execution_count": 21,
   "metadata": {},
   "outputs": [
    {
     "name": "stdout",
     "output_type": "stream",
     "text": [
      "CPU times: user 948 ms, sys: 24.5 ms, total: 972 ms\n",
      "Wall time: 977 ms\n"
     ]
    }
   ],
   "source": [
    "%%time\n",
    "# Writing Data to a Non-Pickled Text File\n",
    "with open('nonser_data.dat', 'w') as f:\n",
    "    for item in dat1:\n",
    "        f.write(\"%s\\n\" % item)"
   ]
  },
  {
   "cell_type": "markdown",
   "metadata": {},
   "source": [
    "#### I/O on Text\n",
    "Pandas library is preferred over built-in Python commands for text data processing.  \n",
    "Formats: JSON, SQL, CSV, XLS/XLSX, HTML"
   ]
  },
  {
   "cell_type": "code",
   "execution_count": 22,
   "metadata": {},
   "outputs": [
    {
     "name": "stdout",
     "output_type": "stream",
     "text": [
      "CPU times: user 2.15 ms, sys: 1.34 ms, total: 3.5 ms\n",
      "Wall time: 7.24 ms\n",
      "CPU times: user 1.86 ms, sys: 263 µs, total: 2.12 ms\n",
      "Wall time: 2.1 ms\n"
     ]
    }
   ],
   "source": [
    "import pandas as pd\n",
    "# Reading a CSV file from a URL loading the Iris dataset into a pandas DataFrame (df) \n",
    "df = pd.read_csv(\"https://gist.githubusercontent.com/curran/a08a1080b88344b0c8a7/raw/0e7a9b0a5d22642a06d3d5b9bcbad9890c8ee534/iris.csv\")\n",
    "\n",
    "# Writing the DataFrame to a CSV file\n",
    "%time df.to_csv('csvdata.csv')\n",
    "\n",
    "# Reading the CSV file back into a DataFrame from the disk\n",
    "%time dat3 = pd.read_csv('csvdata.csv')"
   ]
  },
  {
   "cell_type": "markdown",
   "metadata": {},
   "source": [
    "#### SQL Database\n",
    "Python supports both SQL and NoSQL databases. It support SQL through its SQLite3."
   ]
  },
  {
   "cell_type": "code",
   "execution_count": 23,
   "metadata": {},
   "outputs": [],
   "source": [
    "import sqlite3 as sq\n",
    "\n",
    "# This code is creating a SQLite database (test_sqldb.db) and a table named TEST_TABLE within that database. \n",
    "# The table has three columns, N1, N2, and N3, each of which can store real (floating-point) numbers.\n",
    "\n",
    "# Creating table\n",
    "query = 'CREATE TABLE TEST_TABLE (N1 real, N2 real, N3 real)'\n",
    "\n",
    "# Connecting to the SQLite Database\n",
    "con = sq.connect('test_sqldb.db')\n",
    "\n",
    "# Executing the Query and Committing the Transaction\n",
    "con.execute(query)\n",
    "\n",
    "# Commits the transaction, making the changes permanent in the database. This step is essential \n",
    "# to ensure that the inserted data is saved.\n",
    "con.commit()"
   ]
  },
  {
   "cell_type": "markdown",
   "metadata": {},
   "source": [
    "This code snippet is using SQLite to insert a large amount of randomly generated data into the previously created table TEST_TABLE within an SQLite database. "
   ]
  },
  {
   "cell_type": "code",
   "execution_count": 24,
   "metadata": {},
   "outputs": [
    {
     "name": "stdout",
     "output_type": "stream",
     "text": [
      "CPU times: user 2.17 s, sys: 60.2 ms, total: 2.23 s\n",
      "Wall time: 2.24 s\n"
     ]
    }
   ],
   "source": [
    "%%time\n",
    "\n",
    "# Saving data \n",
    "\n",
    "# Generating Random Data\n",
    "data = np.random.standard_normal((1000000, 3))\n",
    "\n",
    "#  Using the executemany() method to execute multiple SQL INSERT statements in a single call. \n",
    "# The SQL query 'INSERT INTO TEST_TABLE VALUES (?, ?, ?)' specifies the structure of the insert statement, \n",
    "# and the data array provides the values to be inserted into the respective columns.\n",
    "con.executemany('INSERT INTO TEST_TABLE VALUES (?, ?, ?)', data)\n",
    "\n",
    "# Committing the transaction\n",
    "con.commit()"
   ]
  },
  {
   "cell_type": "markdown",
   "metadata": {},
   "source": [
    "The purpose of this code block is to measure the time it takes to retrieve the result of a query that selects all columns from the TEST_TABLE. Notice that the reading operation (selecting and fetching) is faster than the writing operation (inserting) performed in the previous code block."
   ]
  },
  {
   "cell_type": "code",
   "execution_count": 25,
   "metadata": {},
   "outputs": [
    {
     "name": "stdout",
     "output_type": "stream",
     "text": [
      "CPU times: user 876 ms, sys: 80.3 ms, total: 957 ms\n",
      "Wall time: 959 ms\n"
     ]
    },
    {
     "data": {
      "text/plain": [
       "(-3.0857981927292535, -1.0862316635787739, -0.25513530182745264)"
      ]
     },
     "execution_count": 25,
     "metadata": {},
     "output_type": "execute_result"
    }
   ],
   "source": [
    "%%time\n",
    "# Reading data is faster\n",
    "con.execute('SELECT * FROM TEST_TABLE').fetchall()[0]"
   ]
  },
  {
   "cell_type": "markdown",
   "metadata": {},
   "source": [
    "\n",
    "This code snippet is using SQLite to execute a SQL query (SELECT * FROM TEST_TABLE WHERE N1 > 0 AND N2 < 0), fetching the result, converting it to a NumPy array, rounding the values to three decimal places, and then accessing the first row of the result. "
   ]
  },
  {
   "cell_type": "code",
   "execution_count": 26,
   "metadata": {},
   "outputs": [
    {
     "name": "stdout",
     "output_type": "stream",
     "text": [
      "CPU times: user 328 ms, sys: 33.9 ms, total: 362 ms\n",
      "Wall time: 362 ms\n"
     ]
    },
    {
     "data": {
      "text/plain": [
       "array([ 1.223, -0.543, -0.043])"
      ]
     },
     "execution_count": 26,
     "metadata": {},
     "output_type": "execute_result"
    }
   ],
   "source": [
    "%%time\n",
    "# Save directly to Numpy\n",
    "np_query = 'SELECT * FROM TEST_TABLE WHERE N1 > 0 AND N2 < 0'\n",
    "\n",
    "# Fetching and Converting to NumPy Array. Rounding all values to three decimal places. \n",
    "# Accessing the First Row.\n",
    "np.array(con.execute(np_query).fetchall()).round(3)[0]"
   ]
  },
  {
   "cell_type": "markdown",
   "metadata": {},
   "source": [
    "This code snippet demonstrates loading data from an SQLite database table (TEST_TABLE) into a Pandas DataFrame, performing a data selection operation using Pandas, and measuring the time it takes for this operation. "
   ]
  },
  {
   "cell_type": "code",
   "execution_count": 27,
   "metadata": {},
   "outputs": [
    {
     "name": "stdout",
     "output_type": "stream",
     "text": [
      "CPU times: user 11.9 ms, sys: 6.14 ms, total: 18.1 ms\n",
      "Wall time: 19 ms\n"
     ]
    },
    {
     "data": {
      "text/html": [
       "<div>\n",
       "<style scoped>\n",
       "    .dataframe tbody tr th:only-of-type {\n",
       "        vertical-align: middle;\n",
       "    }\n",
       "\n",
       "    .dataframe tbody tr th {\n",
       "        vertical-align: top;\n",
       "    }\n",
       "\n",
       "    .dataframe thead th {\n",
       "        text-align: right;\n",
       "    }\n",
       "</style>\n",
       "<table border=\"1\" class=\"dataframe\">\n",
       "  <thead>\n",
       "    <tr style=\"text-align: right;\">\n",
       "      <th></th>\n",
       "      <th>N1</th>\n",
       "      <th>N2</th>\n",
       "      <th>N3</th>\n",
       "    </tr>\n",
       "  </thead>\n",
       "  <tbody>\n",
       "    <tr>\n",
       "      <th>3</th>\n",
       "      <td>1.223154</td>\n",
       "      <td>-0.543064</td>\n",
       "      <td>-0.043246</td>\n",
       "    </tr>\n",
       "    <tr>\n",
       "      <th>17</th>\n",
       "      <td>0.148145</td>\n",
       "      <td>-1.245550</td>\n",
       "      <td>-1.357123</td>\n",
       "    </tr>\n",
       "    <tr>\n",
       "      <th>21</th>\n",
       "      <td>0.989934</td>\n",
       "      <td>-0.396133</td>\n",
       "      <td>-1.343812</td>\n",
       "    </tr>\n",
       "    <tr>\n",
       "      <th>33</th>\n",
       "      <td>1.069949</td>\n",
       "      <td>-0.373009</td>\n",
       "      <td>-0.377565</td>\n",
       "    </tr>\n",
       "    <tr>\n",
       "      <th>34</th>\n",
       "      <td>0.355769</td>\n",
       "      <td>-0.323142</td>\n",
       "      <td>-1.077861</td>\n",
       "    </tr>\n",
       "  </tbody>\n",
       "</table>\n",
       "</div>"
      ],
      "text/plain": [
       "          N1        N2        N3\n",
       "3   1.223154 -0.543064 -0.043246\n",
       "17  0.148145 -1.245550 -1.357123\n",
       "21  0.989934 -0.396133 -1.343812\n",
       "33  1.069949 -0.373009 -0.377565\n",
       "34  0.355769 -0.323142 -1.077861"
      ]
     },
     "execution_count": 27,
     "metadata": {},
     "output_type": "execute_result"
    }
   ],
   "source": [
    "# load data directly to Pandas DataFrame\n",
    "import pandas.io.sql as pds\n",
    "df = pds.read_sql('SELECT * FROM TEST_TABLE', con)\n",
    "\n",
    "#Performing a Data Selection Operation: Uses Pandas DataFrame operations to filter the data, \n",
    "# selecting rows where the value in column N1 is greater than 0 and the value in column N2 is less than 0. \n",
    "# The .head() method is then used to display the first few rows of the resulting DataFrame.\n",
    "# Much faster with Pandas in-memory processing\n",
    "%time df[(df['N1'] > 0) & (df['N2'] < 0)].head()\n",
    "\n",
    "# NOTE: Pandas CANNOT completely replaces SQL."
   ]
  },
  {
   "cell_type": "markdown",
   "metadata": {},
   "source": [
    "While Pandas provides powerful in-memory data manipulation and analysis capabilities, SQL databases still play a crucial role in data storage, retrieval, and complex querying. While Pandas can handle a wide range of operations, databases are optimized for efficient data storage and retrieval, especially when dealing with large datasets.\n",
    "\n",
    "In summary, this code showcases the convenience of using Pandas to load data from an SQLite database into a DataFrame and perform data manipulation operations, with a focus on the speed and simplicity of these operations."
   ]
  },
  {
   "cell_type": "markdown",
   "metadata": {},
   "source": [
    "*******\n",
    "#### PyTables I/O Operations\n",
    "**PyTables** is an open-source Python library that provides a high-performance, easy-to-use interface for managing and analyzing large datasets. It is particularly well-suited for working with large numerical datasets and is built on top of the HDF5 (Hierarchical Data Format version 5) file format.\n",
    "\n",
    "**HDF5** (Hierarchical Data Format version 5) is a file format and set of tools for managing complex data."
   ]
  },
  {
   "cell_type": "code",
   "execution_count": 28,
   "metadata": {},
   "outputs": [
    {
     "name": "stdout",
     "output_type": "stream",
     "text": [
      "/ints (Table(0,)) 'Integers'\n"
     ]
    }
   ],
   "source": [
    "import tables as tb\n",
    "\n",
    "# Specify File Name and Open HDF5 File\n",
    "file = 'tab.h5'\n",
    "h5 = tb.open_file(file, 'w')\n",
    "\n",
    "# Define Table Structure\n",
    "# creating rows for the db\n",
    "rows = 2000000 # Specifies the expected number of rows in the table\n",
    "\n",
    "# Define the structure of the table. It specifies that the table will have two columns, 'N1' and 'N2', both of integer type (IntCol).\n",
    "table_model = { 'N1': tb.IntCol(pos=1), 'N2': tb.IntCol(pos=2) }\n",
    "\n",
    "# Specify filters for the table, such as compression settings. In this case, compression level is set to 0, indicating no compression.\n",
    "filters = tb.Filters(complevel=0)  # no compression \n",
    "\n",
    "# Create Table in HDF5 File\n",
    "\"\"\"\n",
    "'/': Specifies the location where the table will be created (root in this case).\n",
    "'ints': Specifies the name of the table.\n",
    "table_model: Specifies the structure of the table.\n",
    "title='Integers': Provides a title for the table.\n",
    "expectedrows=rows: Informs the library about the expected number of rows in the table.\n",
    "filters=filters: Applies filters to the table (compression settings in this case).\n",
    "\"\"\"\n",
    "table = h5.create_table('/', 'ints', table_model, title='Integers', expectedrows=rows, filters=filters)\n",
    "\n",
    "# Print Table Information, including its structure, compression settings, and other details.\n",
    "print(table)"
   ]
  },
  {
   "cell_type": "markdown",
   "metadata": {},
   "source": [
    "****\n",
    "Note:\n",
    "- '/ints': This indicates the path to the table within the HDF5 file. In this case, the table is located at the root level and is named 'ints'.\n",
    "\n",
    "- (Table(0,)): This part provides information about the table. It indicates that it is a table (Table) and provides the current number of rows. The (0,) suggests that the table is currently empty, as there are zero rows.\n",
    "\n",
    "- 'Integers': This is the title of the table, as specified in the title='Integers' parameter when creating the table.\n",
    "****"
   ]
  },
  {
   "cell_type": "code",
   "execution_count": 29,
   "metadata": {},
   "outputs": [
    {
     "name": "stdout",
     "output_type": "stream",
     "text": [
      "/ints (Table(2000000,)) 'Integers'\n",
      "CPU times: user 1.33 s, sys: 31.7 ms, total: 1.37 s\n",
      "Wall time: 1.38 s\n"
     ]
    }
   ],
   "source": [
    "%%time\n",
    "# Populate the previously created table with random integer numbers\n",
    "ran_int = np.random.randint(0, 10000, size=(rows, 2))\n",
    "\n",
    "# Create a pointer to the row of the table. This pointer allows you to efficiently insert data into the table row by row.\n",
    "pointer = table.row              # get a pointer to the Row\n",
    "\n",
    "# Iterate over each row of the ran_int array\n",
    "for i in range(rows):\n",
    "    # Assign the value from the ran_int array to the 'N1' column of the current row pointed to by pointer.\n",
    "      pointer['N1'] = ran_int[i, 0]\n",
    "    # Assign the value from the ran_int array to the 'N2' column of the current row pointed to by pointer.\n",
    "      pointer['N2'] = ran_int[i, 1]\n",
    "    # Append the data to the table, and move the pointer to the next row.\n",
    "      pointer.append() \n",
    "\n",
    "# Flush the data to the HDF5 file. This is important to ensure that the data is physically written to the file and not just stored in memory.\n",
    "table.flush()\n",
    "\n",
    "# Print information about the table, including its structure and the number of rows. \n",
    "# Verify that the data has been successfully added to the table.\n",
    "print(table)"
   ]
  },
  {
   "cell_type": "markdown",
   "metadata": {},
   "source": [
    "***\n",
    "Instead of manually looping through each row and populating the data in the table, we can create a NumPy structured array with the same structure as the table we intend to create. Then we can create the table using the HDF5 library providing the structed array as the initial data for the table."
   ]
  },
  {
   "cell_type": "code",
   "execution_count": 30,
   "metadata": {},
   "outputs": [
    {
     "name": "stdout",
     "output_type": "stream",
     "text": [
      "tab.h5 (File) ''\n",
      "Last modif.: '2023-11-27T22:52:21+00:00'\n",
      "Object Tree: \n",
      "/ (RootGroup) ''\n",
      "/ints (Table(2000000,)) 'Integers'\n",
      "/np_array (Table(2000000,)) 'Integers'\n",
      "\n",
      "CPU times: user 13.6 ms, sys: 13 ms, total: 26.5 ms\n",
      "Wall time: 30.1 ms\n"
     ]
    }
   ],
   "source": [
    "%%time\n",
    "\n",
    "# Using Numpy structured array   :: FASTER\n",
    "dty = np.dtype([('N1', 'i4'), ('N2', '<i4')])\n",
    "sarray = np.zeros(len(ran_int), dtype=dty)\n",
    "\n",
    "h5.create_table('/', 'np_array', sarray, title='Integers', expectedrows=rows, filters=filters)\n",
    "print(h5)"
   ]
  },
  {
   "cell_type": "markdown",
   "metadata": {},
   "source": [
    "The key difference is that the second approach leverages the structured nature of NumPy arrays and takes advantage of the HDF5 library's capability to efficiently handle structured data. This results in improved performance, especially when dealing with large datasets.\n",
    "\n",
    "In summary, the second code block uses a more efficient approach by creating the table directly from a structured array, whereas the first code block manually iterates through the array to populate the table row by row. The structured array approach is often faster and more concise."
   ]
  },
  {
   "cell_type": "code",
   "execution_count": 31,
   "metadata": {},
   "outputs": [
    {
     "name": "stdout",
     "output_type": "stream",
     "text": [
      "tab.h5 (File) ''\n",
      "Last modif.: '2023-11-27T23:09:01+00:00'\n",
      "Object Tree: \n",
      "/ (RootGroup) ''\n",
      "/ints (Table(2000000,)) 'Integers'\n",
      "\n"
     ]
    }
   ],
   "source": [
    "# delete duplicate table\n",
    "\n",
    "\n",
    "# Remove the node (in this case, the table) named 'np_array' from the root of the HDF5 file ('/' specifies the root location).\n",
    "h5.remove_node('/', 'np_array')\n",
    "print(h5)"
   ]
  },
  {
   "cell_type": "markdown",
   "metadata": {},
   "source": [
    "Notice we're back to only one table."
   ]
  },
  {
   "cell_type": "code",
   "execution_count": 32,
   "metadata": {},
   "outputs": [],
   "source": [
    "# close it before re-opening again\n",
    "h5.close()"
   ]
  },
  {
   "cell_type": "markdown",
   "metadata": {},
   "source": [
    "*** \n",
    "In the context of working with HDF5 files in Python, it's essential to explicitly close the file after you have finished performing operations on it. Closing the file ensures that any changes made to the file are properly saved, and system resources associated with the file are released.\n",
    "\n",
    "Here's what happens when you call h5.close():\n",
    "\n",
    "- Save Changes: If there were any modifications or additions to the file (such as creating or deleting tables), calling close will ensure that these changes are saved.\n",
    "\n",
    "- Release Resources: Closing the file releases any resources held by the HDF5 library and frees up memory associated with the file.\n",
    "\n",
    "- Prevent Data Corruption: Closing the file is important for preventing data corruption, especially when dealing with write operations. It ensures that all data buffers are flushed, and the file is properly closed.\n",
    "\n",
    "After calling close, the file object (h5 in this case) is no longer usable for operations on the file until it is reopened. If you intend to continue working with the file, you would need to reopen it using the appropriate method, such as h5 = tb.open_file(filename, mode) (assuming tb is the alias for the tables module)."
   ]
  },
  {
   "cell_type": "markdown",
   "metadata": {},
   "source": [
    "**NOTE**: Pandas and PyTables are optimized speed for **I/O** operations.\n",
    "\n",
    "**Question**: When I should use `SQL databases` over `NumPy ndarray-based` or `pandas DataFrame-based` methods?\n"
   ]
  },
  {
   "cell_type": "markdown",
   "metadata": {},
   "source": [
    "The choice between using SQL databases, NumPy ndarray-based methods, or pandas DataFrame-based methods depends on various factors, including the nature of your data, the scale of your data, the type of operations you need to perform, and the specific requirements of your application. Here are some considerations to help you decide:\n",
    "\n",
    "**Use SQL Databases when:**\n",
    "- Structured Data and Relationships: SQL databases are designed for managing structured data and handling relationships between tables. If your data has a well-defined structure and you need to enforce relationships between different entities, a relational database can be a good choice.\n",
    "\n",
    "- ACID Transactions: If your application requires ACID (Atomicity, Consistency, Isolation, Durability) transactions, SQL databases provide a reliable mechanism to ensure data integrity, especially in scenarios where data consistency is critical.\n",
    "\n",
    "- Concurrency and Multi-User Environments: SQL databases are well-suited for multi-user environments where concurrent access to data is common. They provide mechanisms to handle concurrent transactions and ensure data consistency.\n",
    "\n",
    "- Scalability: SQL databases can handle large datasets and are designed to scale vertically by adding more resources to a single server or horizontally by sharding or partitioning the data.\n",
    "\n",
    "**Use NumPy ndarray or Pandas DataFrame when:**\n",
    "- In-Memory Operations: If your data fits comfortably in memory, NumPy ndarrays and pandas DataFrames provide fast, in-memory operations. They are suitable for data manipulation, analysis, and transformation tasks.\n",
    "\n",
    "- Numerical Computing: NumPy is particularly well-suited for numerical computing, and if your application involves heavy numerical computations, using ndarrays can provide performance benefits.\n",
    "\n",
    "- Data Exploration and Analysis: Pandas DataFrames are designed for data manipulation and analysis. They provide a convenient and expressive interface for exploring, cleaning, and transforming data.\n",
    "\n",
    "- Prototyping and Small to Medium-sized Datasets: For quick prototyping or when dealing with relatively small to medium-sized datasets that can fit in memory, NumPy and pandas offer a convenient and efficient way to work with data.\n",
    "\n"
   ]
  },
  {
   "cell_type": "markdown",
   "metadata": {},
   "source": [
    "********\n",
    "### Parallel Processing\n",
    "Python packages such as Numpy, Scipy and Pandas utilize `OpenMP` to run on multiple CPUs on a shared-memory space.\n",
    "\n",
    "- **`-N`**: number of Nodes\n",
    "- **`--ntasks` or `n`**: number of instances of your command being executed (number of MPI ranks for a common cluster)\n",
    "- **`--cpus-per-task` or `c`**: how many CPU cores each task can use, *${SLURM_CPUS_PER_TASK}*\n",
    "\n",
    "Parallel Job Categories:\n",
    "- Fine grained\n",
    "- Coarse grained\n",
    "- Embarrassingly Parallel\n",
    "\n",
    "Terms:\n",
    "- **MPI**      : multiple CPU cores in same/different nodes working independently and communicating on demand\n",
    "- **Threads**  : Python libraries using mulithreading :: Numpy, Scipy, Pandas\n",
    "- **Tasks**    : Processing too many data files :: csv, HDF5"
   ]
  },
  {
   "cell_type": "code",
   "execution_count": 139,
   "metadata": {},
   "outputs": [
    {
     "name": "stderr",
     "output_type": "stream",
     "text": [
      "UsageError: Environment does not have key: SLURM_CPUS_PER_TASK\n"
     ]
    }
   ],
   "source": [
    "# Get # of CPU cores per task\n",
    "\n",
    "%env SLURM_CPUS_PER_TASK"
   ]
  },
  {
   "cell_type": "code",
   "execution_count": 35,
   "metadata": {},
   "outputs": [
    {
     "name": "stdout",
     "output_type": "stream",
     "text": [
      "Using 1 processors\n",
      "Seconds taken to invert 5 symmetric 2000x2000 matrices: 14.994856\n"
     ]
    }
   ],
   "source": [
    "import os\n",
    "from time import time\n",
    "import numpy as np\n",
    "\n",
    "print('Using %d processors' % int(os.getenv('SLURM_CPUS_PER_TASK',1)))\n",
    "\n",
    "nrounds = 5\n",
    "\n",
    "t_start = time()\n",
    "\n",
    "for i in range(nrounds):\n",
    "    a = np.random.random([2000,2000])\n",
    "    a = a + a.T\n",
    "    b = np.linalg.pinv(a) # compute (Moore-Penrose) pseudo-inverse of a matrix\n",
    "\n",
    "t_delta = time() - t_start\n",
    "\n",
    "print('Seconds taken to invert %d symmetric 2000x2000 matrices: %f' % (nrounds, t_delta))"
   ]
  },
  {
   "cell_type": "code",
   "execution_count": 36,
   "metadata": {},
   "outputs": [
    {
     "name": "stdout",
     "output_type": "stream",
     "text": [
      "Using 1 processors\n",
      "Seconds taken to invert 5 symmetric 2000x2000 matrices: 16.950738\n"
     ]
    }
   ],
   "source": [
    "!python python_openmp.py"
   ]
  },
  {
   "cell_type": "markdown",
   "metadata": {},
   "source": [
    "#### Array Job SLURM Script"
   ]
  },
  {
   "cell_type": "raw",
   "metadata": {},
   "source": [
    "#!/bin/bash\n",
    "\n",
    "#SBATCH -J JobName\n",
    "#SBATCH -p shared             # partition (queue)\n",
    "#SBATCH -N 1                  # number of nodes\n",
    "#SBATCH -n 1                  # number of MPI tasks\n",
    "#SBATCH -c 32                 # number of cores per task = SLURM_CPUS_PER_TASK\n",
    "#SBATCH --array=1-16          # specify an array job\n",
    "#SBATCH --mem 128000          # Specify total memory per task\n",
    "#SBATCH -t 1-00:00            # time (D-HH:MM)\n",
    "#SBATCH -o Job.%N.%A.%a.out   # STDOUT\n",
    "#SBATCH -e Job.%N.%A.%a.err   # STDERR\n",
    "\n",
    "export OMP_NUM_THREADS=$SLURM_CPUS_PER_TASK\n",
    "\n",
    "export data_path=/n/holyscratch01/rc_admin/mmsh/MSTemp/$SLURM_JOB_NAME/Tetrode$SLURM_ARRAY_TASK_ID\n",
    "\n",
    "mkdir -p $data_path\n",
    "\n",
    "srun -c $SLURM_CPUS_PER_TASK python python_openmp.py"
   ]
  },
  {
   "cell_type": "markdown",
   "metadata": {},
   "source": [
    "[More Information](https://docs.rc.fas.harvard.edu/kb/parallel-computing-on-odyssey/)"
   ]
  }
 ],
 "metadata": {
  "kernelspec": {
   "display_name": "Python 3 (ipykernel)",
   "language": "python",
   "name": "python3"
  },
  "language_info": {
   "codemirror_mode": {
    "name": "ipython",
    "version": 3
   },
   "file_extension": ".py",
   "mimetype": "text/x-python",
   "name": "python",
   "nbconvert_exporter": "python",
   "pygments_lexer": "ipython3",
   "version": "3.9.13"
  }
 },
 "nbformat": 4,
 "nbformat_minor": 4
}
